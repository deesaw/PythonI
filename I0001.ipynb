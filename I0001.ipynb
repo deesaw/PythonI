{
 "cells": [
  {
   "cell_type": "markdown",
   "metadata": {},
   "source": [
    "# Address of a class"
   ]
  },
  {
   "cell_type": "code",
   "execution_count": 59,
   "metadata": {},
   "outputs": [
    {
     "data": {
      "text/plain": [
       "<__main__.A at 0x288632d86c8>"
      ]
     },
     "execution_count": 59,
     "metadata": {},
     "output_type": "execute_result"
    }
   ],
   "source": [
    "class A:\n",
    "    pass\n",
    "a=A()\n",
    "a\n"
   ]
  },
  {
   "cell_type": "markdown",
   "metadata": {},
   "source": [
    "# Print a random number while printing an object"
   ]
  },
  {
   "cell_type": "code",
   "execution_count": 67,
   "metadata": {},
   "outputs": [
    {
     "name": "stdout",
     "output_type": "stream",
     "text": [
      "4\n"
     ]
    }
   ],
   "source": [
    "import random\n",
    "class A:\n",
    "    def __str__(self):\n",
    "        a.name=random.randrange(10)\n",
    "        return str(a.name)\n",
    "a=A()\n",
    "print(a)"
   ]
  },
  {
   "cell_type": "markdown",
   "metadata": {},
   "source": [
    "# List cannot be multiplied but can be added"
   ]
  },
  {
   "cell_type": "code",
   "execution_count": 74,
   "metadata": {},
   "outputs": [
    {
     "name": "stdout",
     "output_type": "stream",
     "text": [
      "[10, 11, 12, 14, 15, 16]\n",
      "[10, 11, 12, 14, 15, 16, 100]\n",
      "[10, 11, 12, 14, 15, 16, 100, 14, 15, 16]\n"
     ]
    }
   ],
   "source": [
    "x=[10,11,12]\n",
    "y=[14,15,16]\n",
    "#x*y#error\n",
    "z=x+y\n",
    "print(z)\n",
    "z.append(100)\n",
    "print(z)\n",
    "z.extend(y)\n",
    "print(z)\n"
   ]
  },
  {
   "cell_type": "markdown",
   "metadata": {},
   "source": [
    "# Address check"
   ]
  },
  {
   "cell_type": "code",
   "execution_count": 46,
   "metadata": {},
   "outputs": [
    {
     "data": {
      "text/plain": [
       "False"
      ]
     },
     "execution_count": 46,
     "metadata": {},
     "output_type": "execute_result"
    }
   ],
   "source": [
    "x=10\n",
    "y=x+1\n",
    "id(x)==id(y)"
   ]
  },
  {
   "cell_type": "markdown",
   "metadata": {},
   "source": [
    "# minus index in python"
   ]
  },
  {
   "cell_type": "code",
   "execution_count": 76,
   "metadata": {},
   "outputs": [
    {
     "name": "stdout",
     "output_type": "stream",
     "text": [
      "llo wor\n"
     ]
    }
   ],
   "source": [
    "x=\"hello world\"\n",
    "print(x[2:-2])"
   ]
  },
  {
   "cell_type": "code",
   "execution_count": 80,
   "metadata": {},
   "outputs": [
    {
     "name": "stdout",
     "output_type": "stream",
     "text": [
      "\n"
     ]
    }
   ],
   "source": [
    "x=\"hello world\"\n",
    "print(x[-2:1])"
   ]
  },
  {
   "cell_type": "code",
   "execution_count": 83,
   "metadata": {},
   "outputs": [
    {
     "name": "stdout",
     "output_type": "stream",
     "text": [
      "hello wor\n"
     ]
    }
   ],
   "source": [
    "x=\"hello world\"\n",
    "print(x[:-2])"
   ]
  },
  {
   "cell_type": "code",
   "execution_count": 84,
   "metadata": {},
   "outputs": [
    {
     "name": "stdout",
     "output_type": "stream",
     "text": [
      "\n"
     ]
    }
   ],
   "source": [
    "x=\"hello world\"\n",
    "print(x[-2:-2])"
   ]
  },
  {
   "cell_type": "code",
   "execution_count": 96,
   "metadata": {},
   "outputs": [
    {
     "name": "stdout",
     "output_type": "stream",
     "text": [
      "2\n",
      "1\n",
      "2\n",
      "3456712\n"
     ]
    }
   ],
   "source": [
    "x=\"1234567\"\n",
    "y=input()\n",
    "#2-3456712\n",
    "indexs=x.index(y)\n",
    "print(indexs)\n",
    "indexe=indexs+len(y)\n",
    "print(indexe)\n",
    "print(x[indexe:]+x[:indexs+1])"
   ]
  },
  {
   "cell_type": "code",
   "execution_count": 97,
   "metadata": {},
   "outputs": [
    {
     "name": "stdout",
     "output_type": "stream",
     "text": [
      "23\n",
      "1\n",
      "3\n",
      "456712\n"
     ]
    }
   ],
   "source": [
    "x=\"1234567\"\n",
    "y=input()\n",
    "#2-3456712\n",
    "indexs=x.index(y)\n",
    "print(indexs)\n",
    "indexe=indexs+len(y)\n",
    "print(indexe)\n",
    "print(x[indexe:]+x[:indexs+len(y)])"
   ]
  },
  {
   "cell_type": "markdown",
   "metadata": {},
   "source": [
    "## Swap numbers"
   ]
  },
  {
   "cell_type": "code",
   "execution_count": 22,
   "metadata": {},
   "outputs": [],
   "source": [
    "x=10\n",
    "y=20\n",
    "x,y=y,x"
   ]
  },
  {
   "cell_type": "markdown",
   "metadata": {},
   "source": [
    "# Prime number using lambda funtion"
   ]
  },
  {
   "cell_type": "code",
   "execution_count": 41,
   "metadata": {},
   "outputs": [
    {
     "name": "stdout",
     "output_type": "stream",
     "text": [
      "[2, 3, 5, 7, 11, 13, 17, 19, 23, 29, 31, 37, 41, 43, 47, 53, 59, 61, 67, 71, 73, 79, 83, 89, 97]\n"
     ]
    }
   ],
   "source": [
    "primelist = lambda n : [x for x in range(2, n) if not 0 in map(lambda z : x % z, range(2,x))]\n",
    "print(primelist(100))\n"
   ]
  },
  {
   "cell_type": "markdown",
   "metadata": {},
   "source": [
    "# MRO in inheritance"
   ]
  },
  {
   "cell_type": "code",
   "execution_count": 34,
   "metadata": {},
   "outputs": [
    {
     "name": "stdout",
     "output_type": "stream",
     "text": [
      " In class B\n"
     ]
    }
   ],
   "source": [
    "\n",
    "# how MRO works \n",
    "  \n",
    "class A: \n",
    "    def rk(self): \n",
    "        print(\" In class A\") \n",
    "class B: \n",
    "    def rk(self): \n",
    "        print(\" In class B\") \n",
    "  \n",
    "# classes ordering \n",
    "class D( B,A): \n",
    "    pass\n",
    "     \n",
    "r = D() \n",
    "r.rk() "
   ]
  },
  {
   "cell_type": "code",
   "execution_count": null,
   "metadata": {},
   "outputs": [],
   "source": []
  }
 ],
 "metadata": {
  "kernelspec": {
   "display_name": "Python 3",
   "language": "python",
   "name": "python3"
  },
  "language_info": {
   "codemirror_mode": {
    "name": "ipython",
    "version": 3
   },
   "file_extension": ".py",
   "mimetype": "text/x-python",
   "name": "python",
   "nbconvert_exporter": "python",
   "pygments_lexer": "ipython3",
   "version": "3.7.6"
  }
 },
 "nbformat": 4,
 "nbformat_minor": 4
}
